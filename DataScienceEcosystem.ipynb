{
  "nbformat": 4,
  "nbformat_minor": 0,
  "metadata": {
    "colab": {
      "provenance": []
    },
    "kernelspec": {
      "name": "python3",
      "display_name": "Python 3"
    },
    "language_info": {
      "name": "python"
    }
  },
  "cells": [
    {
      "cell_type": "markdown",
      "source": [
        "# Data Science Tools and Ecosystem"
      ],
      "metadata": {
        "id": "rQ0IYdtqCFHP"
      }
    },
    {
      "cell_type": "markdown",
      "source": [
        "In this notebook, Data Science Tools and Ecosystem are summarized."
      ],
      "metadata": {
        "id": "p4O4TmK-CrwL"
      }
    },
    {
      "cell_type": "markdown",
      "source": [
        "Some of the popular languages that Data Scientists use are:\n",
        "1. Python\n",
        "2. R\n",
        "3. SQL"
      ],
      "metadata": {
        "id": "dXtlM5ADDMCs"
      }
    },
    {
      "cell_type": "markdown",
      "source": [
        "Some of the commonly used libraries used by Data Scientists include:\n",
        "1. Pandas\n",
        "2. Numpy\n",
        "3. Scikit-learn"
      ],
      "metadata": {
        "id": "8zZmxamUDo3k"
      }
    },
    {
      "cell_type": "markdown",
      "source": [
        "# Data Science Tools"
      ],
      "metadata": {
        "id": "AKl-ycyaD0iB"
      }
    },
    {
      "cell_type": "markdown",
      "source": [
        "Below are a few examples of evaluating arithmetic expressions in Python"
      ],
      "metadata": {
        "id": "pd3LE4WiD-Z7"
      }
    },
    {
      "cell_type": "code",
      "source": [
        "# This a simple arithmetic expression to mutiply then add integers\n",
        "(3*4)+5\n"
      ],
      "metadata": {
        "colab": {
          "base_uri": "https://localhost:8080/"
        },
        "id": "MaxFJh1ZEGrp",
        "outputId": "e3fa6bba-fdc5-4285-db98-03bd13342acf"
      },
      "execution_count": 2,
      "outputs": [
        {
          "output_type": "execute_result",
          "data": {
            "text/plain": [
              "17"
            ]
          },
          "metadata": {},
          "execution_count": 2
        }
      ]
    },
    {
      "cell_type": "code",
      "source": [
        "#This will convert 200 minutes to hours by diving by 60.\n",
        "\n",
        "200/60"
      ],
      "metadata": {
        "colab": {
          "base_uri": "https://localhost:8080/"
        },
        "id": "-x-h9k0JEpvz",
        "outputId": "f987cfe1-8805-4da0-8abf-a0dec584216d"
      },
      "execution_count": 3,
      "outputs": [
        {
          "output_type": "execute_result",
          "data": {
            "text/plain": [
              "3.3333333333333335"
            ]
          },
          "metadata": {},
          "execution_count": 3
        }
      ]
    },
    {
      "cell_type": "markdown",
      "source": [
        "# Objectives:"
      ],
      "metadata": {
        "id": "Ao9R0Ai5FDYL"
      }
    },
    {
      "cell_type": "markdown",
      "source": [
        "\n",
        "\n",
        "*    commonly used libraries used by Data Scientists\n",
        "*   popular languages that Data Scientists\n",
        "*   evaluating arithmetic expressions in Python\n",
        "\n",
        "\n",
        "\n"
      ],
      "metadata": {
        "id": "EgAVlzjIFVgi"
      }
    },
    {
      "cell_type": "markdown",
      "source": [
        "# Author\n",
        "\n",
        "Mercy Okebiorun"
      ],
      "metadata": {
        "id": "cLddzRl5FwdT"
      }
    }
  ]
}